{
 "cells": [
  {
   "cell_type": "markdown",
   "metadata": {},
   "source": [
    "# Gradient Boosting"
   ]
  },
  {
   "cell_type": "code",
   "execution_count": 2,
   "metadata": {},
   "outputs": [],
   "source": [
    "from datetime import datetime\n",
    "from sklearn.ensemble import GradientBoostingClassifier\n",
    "from sklearn.model_selection import KFold, cross_val_score\n",
    "import matplotlib.pyplot as plt\n",
    "import utils\n",
    "import gb.gb_utils as gb_utils\n",
    "\n",
    "\n",
    "% matplotlib inline"
   ]
  },
  {
   "cell_type": "markdown",
   "metadata": {},
   "source": [
    "### Колонки с пропусками\n",
    "Все эти колонки описывают моменты, которые могли не произойти в первые 5 минут игры."
   ]
  },
  {
   "cell_type": "code",
   "execution_count": 3,
   "metadata": {},
   "outputs": [
    {
     "data": {
      "text/html": [
       "<div>\n",
       "<style scoped>\n",
       "    .dataframe tbody tr th:only-of-type {\n",
       "        vertical-align: middle;\n",
       "    }\n",
       "\n",
       "    .dataframe tbody tr th {\n",
       "        vertical-align: top;\n",
       "    }\n",
       "\n",
       "    .dataframe thead th {\n",
       "        text-align: right;\n",
       "    }\n",
       "</style>\n",
       "<table border=\"1\" class=\"dataframe\">\n",
       "  <thead>\n",
       "    <tr style=\"text-align: right;\">\n",
       "      <th></th>\n",
       "      <th>skips_count</th>\n",
       "    </tr>\n",
       "  </thead>\n",
       "  <tbody>\n",
       "    <tr>\n",
       "      <th>first_blood_time</th>\n",
       "      <td>9764</td>\n",
       "    </tr>\n",
       "    <tr>\n",
       "      <th>first_blood_team</th>\n",
       "      <td>9764</td>\n",
       "    </tr>\n",
       "    <tr>\n",
       "      <th>first_blood_player1</th>\n",
       "      <td>9764</td>\n",
       "    </tr>\n",
       "    <tr>\n",
       "      <th>first_blood_player2</th>\n",
       "      <td>21870</td>\n",
       "    </tr>\n",
       "    <tr>\n",
       "      <th>radiant_bottle_time</th>\n",
       "      <td>7961</td>\n",
       "    </tr>\n",
       "    <tr>\n",
       "      <th>radiant_courier_time</th>\n",
       "      <td>349</td>\n",
       "    </tr>\n",
       "    <tr>\n",
       "      <th>radiant_flying_courier_time</th>\n",
       "      <td>13805</td>\n",
       "    </tr>\n",
       "    <tr>\n",
       "      <th>radiant_first_ward_time</th>\n",
       "      <td>918</td>\n",
       "    </tr>\n",
       "    <tr>\n",
       "      <th>dire_bottle_time</th>\n",
       "      <td>8192</td>\n",
       "    </tr>\n",
       "    <tr>\n",
       "      <th>dire_courier_time</th>\n",
       "      <td>336</td>\n",
       "    </tr>\n",
       "    <tr>\n",
       "      <th>dire_flying_courier_time</th>\n",
       "      <td>13207</td>\n",
       "    </tr>\n",
       "    <tr>\n",
       "      <th>dire_first_ward_time</th>\n",
       "      <td>926</td>\n",
       "    </tr>\n",
       "  </tbody>\n",
       "</table>\n",
       "</div>"
      ],
      "text/plain": [
       "                             skips_count\n",
       "first_blood_time                    9764\n",
       "first_blood_team                    9764\n",
       "first_blood_player1                 9764\n",
       "first_blood_player2                21870\n",
       "radiant_bottle_time                 7961\n",
       "radiant_courier_time                 349\n",
       "radiant_flying_courier_time        13805\n",
       "radiant_first_ward_time              918\n",
       "dire_bottle_time                    8192\n",
       "dire_courier_time                    336\n",
       "dire_flying_courier_time           13207\n",
       "dire_first_ward_time                 926"
      ]
     },
     "execution_count": 3,
     "metadata": {},
     "output_type": "execute_result"
    }
   ],
   "source": [
    "train_data = utils.get_data(fillna=False)\n",
    "test_data = utils.get_data(test=True, sample=False)\n",
    "X_train = train_data.loc[:, train_data.columns != 'radiant_win']\n",
    "gb_utils.get_skips_df(train_data)"
   ]
  },
  {
   "cell_type": "markdown",
   "metadata": {},
   "source": [
    "### Подготовка данных\n",
    "В процессе обучения классификатора, я выяснил, что использование среднего значения данных о каждом игроке(золото, опыт и тп.) значительно ускоряет время обучения, а также повышает качество классификации на 5-7%. Однако колонку, содержащую информацию о герое преобразовывать таким способом не имеет смысла, поэтому я прибегнул к методу мешка слов. А также на этом шаге я заменил все nan значения на 0 и удалил колонки, не представляющие никакой важности."
   ]
  },
  {
   "cell_type": "code",
   "execution_count": 4,
   "metadata": {},
   "outputs": [
    {
     "data": {
      "text/html": [
       "<div>\n",
       "<style scoped>\n",
       "    .dataframe tbody tr th:only-of-type {\n",
       "        vertical-align: middle;\n",
       "    }\n",
       "\n",
       "    .dataframe tbody tr th {\n",
       "        vertical-align: top;\n",
       "    }\n",
       "\n",
       "    .dataframe thead th {\n",
       "        text-align: right;\n",
       "    }\n",
       "</style>\n",
       "<table border=\"1\" class=\"dataframe\">\n",
       "  <thead>\n",
       "    <tr style=\"text-align: right;\">\n",
       "      <th></th>\n",
       "      <th>first_blood_team</th>\n",
       "      <th>radiant_bottle_time</th>\n",
       "      <th>radiant_courier_time</th>\n",
       "      <th>radiant_flying_courier_time</th>\n",
       "      <th>radiant_tpscroll_count</th>\n",
       "      <th>radiant_boots_count</th>\n",
       "      <th>radiant_ward_observer_count</th>\n",
       "      <th>radiant_ward_sentry_count</th>\n",
       "      <th>radiant_first_ward_time</th>\n",
       "      <th>dire_bottle_time</th>\n",
       "      <th>...</th>\n",
       "      <th>hero_102</th>\n",
       "      <th>hero_103</th>\n",
       "      <th>hero_104</th>\n",
       "      <th>hero_105</th>\n",
       "      <th>hero_106</th>\n",
       "      <th>hero_107</th>\n",
       "      <th>hero_108</th>\n",
       "      <th>hero_109</th>\n",
       "      <th>hero_110</th>\n",
       "      <th>hero_111</th>\n",
       "    </tr>\n",
       "    <tr>\n",
       "      <th>match_id</th>\n",
       "      <th></th>\n",
       "      <th></th>\n",
       "      <th></th>\n",
       "      <th></th>\n",
       "      <th></th>\n",
       "      <th></th>\n",
       "      <th></th>\n",
       "      <th></th>\n",
       "      <th></th>\n",
       "      <th></th>\n",
       "      <th></th>\n",
       "      <th></th>\n",
       "      <th></th>\n",
       "      <th></th>\n",
       "      <th></th>\n",
       "      <th></th>\n",
       "      <th></th>\n",
       "      <th></th>\n",
       "      <th></th>\n",
       "      <th></th>\n",
       "      <th></th>\n",
       "    </tr>\n",
       "  </thead>\n",
       "  <tbody>\n",
       "    <tr>\n",
       "      <th>89025</th>\n",
       "      <td>1.0</td>\n",
       "      <td>105.0</td>\n",
       "      <td>-85.0</td>\n",
       "      <td>243.0</td>\n",
       "      <td>3</td>\n",
       "      <td>4</td>\n",
       "      <td>3</td>\n",
       "      <td>2</td>\n",
       "      <td>22.0</td>\n",
       "      <td>176.0</td>\n",
       "      <td>...</td>\n",
       "      <td>0.0</td>\n",
       "      <td>0.0</td>\n",
       "      <td>0.0</td>\n",
       "      <td>-1.0</td>\n",
       "      <td>0.0</td>\n",
       "      <td>0.0</td>\n",
       "      <td>0.0</td>\n",
       "      <td>0.0</td>\n",
       "      <td>0.0</td>\n",
       "      <td>1.0</td>\n",
       "    </tr>\n",
       "    <tr>\n",
       "      <th>88779</th>\n",
       "      <td>0.0</td>\n",
       "      <td>134.0</td>\n",
       "      <td>-85.0</td>\n",
       "      <td>269.0</td>\n",
       "      <td>1</td>\n",
       "      <td>4</td>\n",
       "      <td>2</td>\n",
       "      <td>1</td>\n",
       "      <td>-14.0</td>\n",
       "      <td>225.0</td>\n",
       "      <td>...</td>\n",
       "      <td>0.0</td>\n",
       "      <td>0.0</td>\n",
       "      <td>0.0</td>\n",
       "      <td>1.0</td>\n",
       "      <td>0.0</td>\n",
       "      <td>0.0</td>\n",
       "      <td>0.0</td>\n",
       "      <td>0.0</td>\n",
       "      <td>0.0</td>\n",
       "      <td>0.0</td>\n",
       "    </tr>\n",
       "    <tr>\n",
       "      <th>90855</th>\n",
       "      <td>0.0</td>\n",
       "      <td>171.0</td>\n",
       "      <td>-86.0</td>\n",
       "      <td>181.0</td>\n",
       "      <td>2</td>\n",
       "      <td>4</td>\n",
       "      <td>3</td>\n",
       "      <td>2</td>\n",
       "      <td>-11.0</td>\n",
       "      <td>145.0</td>\n",
       "      <td>...</td>\n",
       "      <td>0.0</td>\n",
       "      <td>0.0</td>\n",
       "      <td>0.0</td>\n",
       "      <td>0.0</td>\n",
       "      <td>0.0</td>\n",
       "      <td>0.0</td>\n",
       "      <td>0.0</td>\n",
       "      <td>0.0</td>\n",
       "      <td>0.0</td>\n",
       "      <td>1.0</td>\n",
       "    </tr>\n",
       "    <tr>\n",
       "      <th>89972</th>\n",
       "      <td>0.0</td>\n",
       "      <td>54.0</td>\n",
       "      <td>-83.0</td>\n",
       "      <td>191.0</td>\n",
       "      <td>4</td>\n",
       "      <td>4</td>\n",
       "      <td>4</td>\n",
       "      <td>1</td>\n",
       "      <td>-11.0</td>\n",
       "      <td>138.0</td>\n",
       "      <td>...</td>\n",
       "      <td>0.0</td>\n",
       "      <td>0.0</td>\n",
       "      <td>0.0</td>\n",
       "      <td>0.0</td>\n",
       "      <td>0.0</td>\n",
       "      <td>0.0</td>\n",
       "      <td>0.0</td>\n",
       "      <td>0.0</td>\n",
       "      <td>0.0</td>\n",
       "      <td>1.0</td>\n",
       "    </tr>\n",
       "    <tr>\n",
       "      <th>66798</th>\n",
       "      <td>1.0</td>\n",
       "      <td>66.0</td>\n",
       "      <td>-83.0</td>\n",
       "      <td>213.0</td>\n",
       "      <td>1</td>\n",
       "      <td>3</td>\n",
       "      <td>2</td>\n",
       "      <td>1</td>\n",
       "      <td>-31.0</td>\n",
       "      <td>6.0</td>\n",
       "      <td>...</td>\n",
       "      <td>0.0</td>\n",
       "      <td>0.0</td>\n",
       "      <td>0.0</td>\n",
       "      <td>0.0</td>\n",
       "      <td>0.0</td>\n",
       "      <td>0.0</td>\n",
       "      <td>0.0</td>\n",
       "      <td>0.0</td>\n",
       "      <td>0.0</td>\n",
       "      <td>0.0</td>\n",
       "    </tr>\n",
       "  </tbody>\n",
       "</table>\n",
       "<p>5 rows × 143 columns</p>\n",
       "</div>"
      ],
      "text/plain": [
       "          first_blood_team  radiant_bottle_time  radiant_courier_time  \\\n",
       "match_id                                                                \n",
       "89025                  1.0                105.0                 -85.0   \n",
       "88779                  0.0                134.0                 -85.0   \n",
       "90855                  0.0                171.0                 -86.0   \n",
       "89972                  0.0                 54.0                 -83.0   \n",
       "66798                  1.0                 66.0                 -83.0   \n",
       "\n",
       "          radiant_flying_courier_time  radiant_tpscroll_count  \\\n",
       "match_id                                                        \n",
       "89025                           243.0                       3   \n",
       "88779                           269.0                       1   \n",
       "90855                           181.0                       2   \n",
       "89972                           191.0                       4   \n",
       "66798                           213.0                       1   \n",
       "\n",
       "          radiant_boots_count  radiant_ward_observer_count  \\\n",
       "match_id                                                     \n",
       "89025                       4                            3   \n",
       "88779                       4                            2   \n",
       "90855                       4                            3   \n",
       "89972                       4                            4   \n",
       "66798                       3                            2   \n",
       "\n",
       "          radiant_ward_sentry_count  radiant_first_ward_time  \\\n",
       "match_id                                                       \n",
       "89025                             2                     22.0   \n",
       "88779                             1                    -14.0   \n",
       "90855                             2                    -11.0   \n",
       "89972                             1                    -11.0   \n",
       "66798                             1                    -31.0   \n",
       "\n",
       "          dire_bottle_time    ...     hero_102  hero_103  hero_104  hero_105  \\\n",
       "match_id                      ...                                              \n",
       "89025                176.0    ...          0.0       0.0       0.0      -1.0   \n",
       "88779                225.0    ...          0.0       0.0       0.0       1.0   \n",
       "90855                145.0    ...          0.0       0.0       0.0       0.0   \n",
       "89972                138.0    ...          0.0       0.0       0.0       0.0   \n",
       "66798                  6.0    ...          0.0       0.0       0.0       0.0   \n",
       "\n",
       "          hero_106  hero_107  hero_108  hero_109  hero_110  hero_111  \n",
       "match_id                                                              \n",
       "89025          0.0       0.0       0.0       0.0       0.0       1.0  \n",
       "88779          0.0       0.0       0.0       0.0       0.0       0.0  \n",
       "90855          0.0       0.0       0.0       0.0       0.0       1.0  \n",
       "89972          0.0       0.0       0.0       0.0       0.0       1.0  \n",
       "66798          0.0       0.0       0.0       0.0       0.0       0.0  \n",
       "\n",
       "[5 rows x 143 columns]"
      ]
     },
     "execution_count": 4,
     "metadata": {},
     "output_type": "execute_result"
    }
   ],
   "source": [
    "X_train = utils.replace_with_bag_of_words(utils.prepare_data(X_train.fillna(0)))\n",
    "X_train.head()"
   ]
  },
  {
   "cell_type": "markdown",
   "metadata": {},
   "source": [
    "### Извлекаем целевую переменную"
   ]
  },
  {
   "cell_type": "code",
   "execution_count": 5,
   "metadata": {},
   "outputs": [
    {
     "data": {
      "text/plain": [
       "match_id\n",
       "89025     0\n",
       "88779     0\n",
       "90855     1\n",
       "89972     0\n",
       "66798     0\n",
       "75930     0\n",
       "72714     1\n",
       "68289     1\n",
       "46902     0\n",
       "42403     1\n",
       "41029     0\n",
       "95218     0\n",
       "73047     1\n",
       "107001    1\n",
       "107331    1\n",
       "95670     1\n",
       "61908     1\n",
       "111284    1\n",
       "265       1\n",
       "1905      0\n",
       "103886    1\n",
       "38836     1\n",
       "92653     0\n",
       "56307     1\n",
       "72368     0\n",
       "110219    1\n",
       "69887     0\n",
       "11631     0\n",
       "5912      0\n",
       "67394     1\n",
       "         ..\n",
       "42945     1\n",
       "101131    0\n",
       "32873     0\n",
       "69667     0\n",
       "42744     1\n",
       "84062     0\n",
       "15236     1\n",
       "73655     0\n",
       "32917     0\n",
       "7871      1\n",
       "109387    1\n",
       "77272     1\n",
       "57367     0\n",
       "17502     0\n",
       "61978     0\n",
       "45109     1\n",
       "108860    1\n",
       "83940     1\n",
       "21678     0\n",
       "4114      1\n",
       "12646     0\n",
       "13909     1\n",
       "55837     0\n",
       "41616     0\n",
       "82190     0\n",
       "62884     1\n",
       "63110     1\n",
       "98019     1\n",
       "52994     1\n",
       "8125      0\n",
       "Name: radiant_win, Length: 48615, dtype: int64"
      ]
     },
     "execution_count": 5,
     "metadata": {},
     "output_type": "execute_result"
    }
   ],
   "source": [
    "y = train_data['radiant_win']\n",
    "y"
   ]
  },
  {
   "cell_type": "markdown",
   "metadata": {},
   "source": [
    "Обучаем классификатор, используя разные значения для количества деревьев(n_estimators) проводя кросс-валидацию по 5 блокам для оценки качества."
   ]
  },
  {
   "cell_type": "code",
   "execution_count": 6,
   "metadata": {},
   "outputs": [],
   "source": [
    "estimators = [10, 20, 30, 70, 120, 250]\n",
    "scores = []\n",
    "cross_val_times = []\n",
    "for n_estimators in estimators:\n",
    "    cv = KFold(n_splits=5, shuffle=True, random_state=241)\n",
    "    clf = GradientBoostingClassifier(n_estimators=n_estimators, random_state=241)\n",
    "    start_time = datetime.now()\n",
    "    score = cross_val_score(estimator=clf, cv=cv, X=X_train, y=y, scoring='roc_auc').mean()\n",
    "    cross_val_times.append(datetime.now() - start_time)\n",
    "    scores.append(score)"
   ]
  },
  {
   "cell_type": "markdown",
   "metadata": {},
   "source": [
    "Время, которое заняла кросс-валидация по 5 блокам для 30 деревьев:"
   ]
  },
  {
   "cell_type": "code",
   "execution_count": 7,
   "metadata": {},
   "outputs": [
    {
     "data": {
      "text/plain": [
       "29.985174"
      ]
     },
     "execution_count": 7,
     "metadata": {},
     "output_type": "execute_result"
    }
   ],
   "source": [
    "cross_val_times[estimators.index(30)].total_seconds()"
   ]
  },
  {
   "cell_type": "markdown",
   "metadata": {},
   "source": [
    "Ниже представлен график, показывающий изменение качества классификации с повышением количества деревьев"
   ]
  },
  {
   "cell_type": "code",
   "execution_count": 8,
   "metadata": {},
   "outputs": [
    {
     "data": {
      "image/png": "[encoded data removed]",
      "text/plain": [
       "<matplotlib.figure.Figure at 0x116527588>"
      ]
     },
     "metadata": {},
     "output_type": "display_data"
    }
   ],
   "source": [
    "gb_utils.plot(estimators, scores)"
   ]
  },
  {
   "cell_type": "markdown",
   "metadata": {},
   "source": [
    "Исходя из данных графика, можно заметить, что использование большего количества деревьев влечет за собой повышение качества, а следовательно - есть смысл использовать больше чем 30 деревьев."
   ]
  },
  {
   "cell_type": "markdown",
   "metadata": {},
   "source": [
    "# Logistic Regression"
   ]
  },
  {
   "cell_type": "code",
   "execution_count": 9,
   "metadata": {},
   "outputs": [],
   "source": [
    "from sklearn.linear_model import LogisticRegression\n",
    "from sklearn.preprocessing import StandardScaler\n",
    "import lr.lr_utils as lr_utils\n",
    "\n",
    "\n",
    "def train(X, y, scale=True):\n",
    "  cv = KFold(n_splits=5, shuffle=True, random_state=241)\n",
    "  X_ = X.copy()\n",
    "  if scale:\n",
    "    scaler = StandardScaler()\n",
    "    X_ = scaler.fit_transform(X_)\n",
    "  scores = []\n",
    "  for C in C_range:\n",
    "    clf = LogisticRegression(C=C, random_state=241)\n",
    "    score = cross_val_score(estimator=clf, cv=cv, X=X_, y=y, scoring='roc_auc').mean()\n",
    "    scores.append(score)\n",
    "  return scores\n",
    "\n",
    "\n",
    "def train_raw_data(X, y):\n",
    "  scores = train(X, y)\n",
    "  lr_utils.plot(C_pows, scores)\n",
    "\n",
    "\n",
    "def train_data_without_categorical(X, y):\n",
    "  r_hero_cols, d_hero_cols = utils.get_personal_columns('hero')\n",
    "  scores = train(X.drop([*r_hero_cols, *d_hero_cols, 'lobby_type'], axis=1), y)\n",
    "  lr_utils.plot(C_pows, scores)\n",
    "\n",
    "\n",
    "def train_with_bag_of_words(X, y):\n",
    "  X = utils.replace_with_bag_of_words(utils.prepare_data(X))\n",
    "  scores = train(X, y)\n",
    "  lr_utils.plot(C_pows, scores)"
   ]
  },
  {
   "cell_type": "code",
   "execution_count": 10,
   "metadata": {},
   "outputs": [],
   "source": [
    "C_pows = range(-5, 1)\n",
    "C_range = [10.0 ** i for i in C_pows]\n",
    "train_data = utils.get_data(sample=False)\n",
    "test_data = utils.get_data(test=True, sample=False)\n",
    "y = train_data['radiant_win']\n",
    "X_train = train_data.loc[:, train_data.columns != 'radiant_win']"
   ]
  },
  {
   "cell_type": "markdown",
   "metadata": {},
   "source": [
    "Значение логистической регрессии на сырых данных оказалось выше, чем у метода градиентного бустинга, при этом скорость заметно выросла"
   ]
  },
  {
   "cell_type": "code",
   "execution_count": 11,
   "metadata": {},
   "outputs": [
    {
     "data": {
      "image/png": "[encoded data removed]",
      "text/plain": [
       "<matplotlib.figure.Figure at 0x10f7a8e48>"
      ]
     },
     "metadata": {},
     "output_type": "display_data"
    }
   ],
   "source": [
    "train_raw_data(X_train, y)"
   ]
  },
  {
   "cell_type": "markdown",
   "metadata": {},
   "source": [
    "Удаление категориальных признаков ни чуть не изменило результат. Лучший счет по прежнему 0.716 и достигается при C = 0.01"
   ]
  },
  {
   "cell_type": "code",
   "execution_count": 12,
   "metadata": {},
   "outputs": [
    {
     "data": {
      "image/png": "[encoded data removed]",
      "text/plain": [
       "<matplotlib.figure.Figure at 0x1118bdfd0>"
      ]
     },
     "metadata": {},
     "output_type": "display_data"
    }
   ],
   "source": [
    "train_data_without_categorical(X_train, y)"
   ]
  },
  {
   "cell_type": "markdown",
   "metadata": {},
   "source": [
    "Количество уникальных идентификаторов для героев"
   ]
  },
  {
   "cell_type": "code",
   "execution_count": 13,
   "metadata": {},
   "outputs": [
    {
     "data": {
      "text/plain": [
       "112"
      ]
     },
     "execution_count": 13,
     "metadata": {},
     "output_type": "execute_result"
    }
   ],
   "source": [
    "lr_utils.count_heroes_ids()"
   ]
  },
  {
   "cell_type": "markdown",
   "metadata": {},
   "source": [
    "После добавления мешка слов по героям качество заметно выросло до 0.752"
   ]
  },
  {
   "cell_type": "code",
   "execution_count": 14,
   "metadata": {},
   "outputs": [
    {
     "data": {
      "image/png": "[encoded data removed]",
      "text/plain": [
       "<matplotlib.figure.Figure at 0x10fc50fd0>"
      ]
     },
     "metadata": {},
     "output_type": "display_data"
    }
   ],
   "source": [
    "train_with_bag_of_words(X_train, y)"
   ]
  },
  {
   "cell_type": "markdown",
   "metadata": {},
   "source": [
    "Минимальное значение и максимальное значения предсказаний"
   ]
  },
  {
   "cell_type": "code",
   "execution_count": 15,
   "metadata": {},
   "outputs": [
    {
     "data": {
      "text/plain": [
       "(0.0082797737826935738, 0.99582100023691134)"
      ]
     },
     "execution_count": 15,
     "metadata": {},
     "output_type": "execute_result"
    }
   ],
   "source": [
    "X_test = utils.replace_with_bag_of_words(utils.prepare_data(test_data))\n",
    "clf = LogisticRegression(C=0.01, random_state=241)\n",
    "clf.fit(utils.replace_with_bag_of_words(utils.prepare_data(X_train)), y)\n",
    "pred = clf.predict_proba(X_test)[:, 1]\n",
    "min(pred), max(pred)"
   ]
  }
 ],
 "metadata": {
  "kernelspec": {
   "display_name": "Python 3",
   "language": "python",
   "name": "python3"
  },
  "language_info": {
   "codemirror_mode": {
    "name": "ipython",
    "version": 3
   },
   "file_extension": ".py",
   "mimetype": "text/x-python",
   "name": "python",
   "nbconvert_exporter": "python",
   "pygments_lexer": "ipython3",
   "version": "3.6.3"
  }
 },
 "nbformat": 4,
 "nbformat_minor": 1
}
